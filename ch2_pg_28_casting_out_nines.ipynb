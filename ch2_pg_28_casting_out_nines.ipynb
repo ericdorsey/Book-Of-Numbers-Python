{
 "cells": [
  {
   "cell_type": "markdown",
   "metadata": {},
   "source": [
    "## Chapter 2\n",
    "\n",
    "### Casting Out Nines\n",
    "\n",
    "From p. 28:\n",
    "\n",
    "> \"casting out the nines,\" a useful arthimetic check\n",
    "\n",
    "Explained in detail in YouTube video [Casting Out Nines - Numberphile](https://www.youtube.com/watch?v=FlndIiQa20o)"
   ]
  },
  {
   "cell_type": "code",
   "execution_count": 1,
   "metadata": {},
   "outputs": [],
   "source": [
    "def casting_out_nines(number):\n",
    "    \"\"\"\n",
    "    This is the \"raw\" addends method (ie, we don't try to remove any nines (cont.)\n",
    "    or combinations that make nines first). We simply sum every digit of the number (cont.)\n",
    "    until it reduces to a number that is less than or equal to nine. \n",
    "    \"\"\"\n",
    "    print(f\"Given number: {number}\")\n",
    "    \n",
    "    def reducer(reduceme):\n",
    "        number_as_list = [int(i) for i in str(reduceme)]\n",
    "        all_but_last_number_str = \" + \".join([str(i) for i in number_as_list if i != number_as_list[-1]])\n",
    "        last_number_str = number_as_list[-1]\n",
    "        new_number = sum(number_as_list)\n",
    "        print(f\"{all_but_last_number_str} + {last_number_str} summed is {new_number}\")\n",
    "        return new_number\n",
    "    if number < 10:\n",
    "        return number\n",
    "    else:\n",
    "        while number > 9:\n",
    "            number = reducer(number)\n",
    "    print(f\"Result is {number}\\n\")\n",
    "    return number"
   ]
  },
  {
   "cell_type": "code",
   "execution_count": 2,
   "metadata": {},
   "outputs": [],
   "source": [
    "def casting_out_nines_remove_nines(number):\n",
    "    \"\"\"\n",
    "    This is the more detailed approach, where we first remove pairs of digits (cont.)\n",
    "    that sum to nine, and remove nines from digits before summing the addends (cont.)\n",
    "    until it reduces to a number that is less than or equal to nine.\n",
    "    \"\"\"\n",
    "    print(f\"Given number: {number}\")\n",
    "    \n",
    "    def pairs_sum_to_nine(list_to_check_for_nine_sums):\n",
    "        \"\"\"\n",
    "        Checks a list for pairs that sum to nine\n",
    "        Returns unique set() of pairs that summed to nine\n",
    "        \"\"\"\n",
    "        sum_to_nine_digits = []\n",
    "        for x in list_to_check_for_nine_sums:\n",
    "            for y in list_to_check_for_nine_sums:\n",
    "                # go through each pair of numbers and see if they sum to nine; \n",
    "                # if yes, append to the sum_to_nine_digits list\n",
    "                if x + y == 9:\n",
    "                    #print(f\"{x} + {y} sums to nine\")\n",
    "                    sum_to_nine_digits.append(x)\n",
    "                    sum_to_nine_digits.append(y)\n",
    "        # get the unique's only, using set(), from all the pairs collected in sum_to_nine_digits\n",
    "        sum_to_nine_digits = list(set(sum_to_nine_digits))\n",
    "        return sum_to_nine_digits\n",
    "    \n",
    "    def reducer(reduceme):\n",
    "        number_as_list = [int(i) for i in str(reduceme)]\n",
    "        # First, remove nines\n",
    "        #print(\"dropping nines from list\")\n",
    "        nines_removed_list = [i for i in number_as_list if i != 9]\n",
    "        print(f\"Digits after pairs that summed to nine, and digits that are nine are dropped: {nines_removed_list}\")\n",
    "        all_but_last_number_str = \" + \".join([str(i) for i in nines_removed_list if i != nines_removed_list[-1]])\n",
    "        last_number_str = nines_removed_list[-1]\n",
    "        new_number = sum(nines_removed_list)\n",
    "        print(f\"{all_but_last_number_str} + {last_number_str} summed is {new_number}\")\n",
    "        return new_number\n",
    "\n",
    "    if number < 10:\n",
    "        return number\n",
    "    else:\n",
    "        # convert the number to a list for \"remove sums of nines\" operations\n",
    "        number_as_list = [int(i) for i in str(number)]\n",
    "        sum_to_nine_digits = pairs_sum_to_nine(number_as_list)\n",
    "        # remove the digits that summed to nine from the original number\n",
    "        removed = []\n",
    "        pairs_removed = False\n",
    "        for i in sum_to_nine_digits:\n",
    "            if i in number_as_list:\n",
    "                pairs_removed = True\n",
    "                #print(f\"removing {i}\")\n",
    "                number_as_list.remove(i)\n",
    "                removed.append(i)\n",
    "        if pairs_removed == True:\n",
    "            # https://stackoverflow.com/questions/4647050/collect-every-pair-of-elements-from-a-list-into-tuples-in-python\n",
    "            removed_pairs_list = list(zip(removed[::2], removed[1::2]))\n",
    "            removed_pairs_display_text = \" \".join([str(i) for i in removed_pairs_list])\n",
    "            #print(f\"Removed pairs {removed_pairs_list} because those pairs summed to nine\") \n",
    "            print(f\"Removed pairs {removed_pairs_display_text} because those pairs summed to nine\")\n",
    "        elif pairs_removed == False:\n",
    "            pass\n",
    "        nines_sums_removed_num = number_as_list\n",
    "        nines_sums_removed_num = int(\"\".join([str(i) for i in nines_sums_removed_num]))\n",
    "        \n",
    "        while nines_sums_removed_num > 9:\n",
    "            nines_sums_removed_num = reducer(nines_sums_removed_num)\n",
    "    print(f\"Result is {nines_sums_removed_num}\\n\")\n",
    "    return nines_sums_removed_num"
   ]
  },
  {
   "cell_type": "code",
   "execution_count": 3,
   "metadata": {},
   "outputs": [],
   "source": [
    "def casting_out_nines_addends(casting_out_nines_method, *addends, final_reduction=True):\n",
    "    results = []\n",
    "    for i in addends:\n",
    "        curr_addends_result = casting_out_nines_method(i)\n",
    "        results.append(curr_addends_result)\n",
    "    results_as_a_number = int(\"\".join([str(i) for i in results]))\n",
    "    print(f\"\\nSimplified digits of {addends} is {results_as_a_number}\")\n",
    "    # if final_reduction == True, simplify that result\n",
    "    if final_reduction == True:\n",
    "        final_result = casting_out_nines_method(results_as_a_number)\n",
    "        #return results_as_a_number\n",
    "        return final_result\n",
    "    else:\n",
    "        return results"
   ]
  },
  {
   "cell_type": "code",
   "execution_count": 4,
   "metadata": {},
   "outputs": [],
   "source": [
    "def multiply_members_of_list(my_list):\n",
    "    result = 1\n",
    "    for i in my_list:\n",
    "        result = result * i\n",
    "    return result"
   ]
  },
  {
   "cell_type": "code",
   "execution_count": 5,
   "metadata": {},
   "outputs": [],
   "source": [
    "def check_if_equal(thing_one, thing_two):\n",
    "    if thing_one == thing_two:\n",
    "        print(f\"{thing_one} and {thing_two} are the same\")\n",
    "        return True\n",
    "    else:\n",
    "        print(f\"{thing_one} and {thing_two} are different\")\n",
    "        return False"
   ]
  },
  {
   "cell_type": "markdown",
   "metadata": {},
   "source": [
    "### Addition Version\n",
    "\n",
    "Check if 2039 + 172 + 1218 + 3091 equals 6520"
   ]
  },
  {
   "cell_type": "code",
   "execution_count": 6,
   "metadata": {},
   "outputs": [
    {
     "name": "stdout",
     "output_type": "stream",
     "text": [
      "Given number: 2039\n",
      "Removed pairs (0, 9) because those pairs summed to nine\n",
      "Digits after pairs that summed to nine, and digits that are nine are dropped: [2, 3]\n",
      "2 + 3 summed is 5\n",
      "Result is 5\n",
      "\n",
      "Given number: 172\n",
      "Removed pairs (2, 7) because those pairs summed to nine\n",
      "Result is 1\n",
      "\n",
      "Given number: 1218\n",
      "Removed pairs (8, 1) because those pairs summed to nine\n",
      "Digits after pairs that summed to nine, and digits that are nine are dropped: [2, 1]\n",
      "2 + 1 summed is 3\n",
      "Result is 3\n",
      "\n",
      "Given number: 3091\n",
      "Removed pairs (0, 9) because those pairs summed to nine\n",
      "Digits after pairs that summed to nine, and digits that are nine are dropped: [3, 1]\n",
      "3 + 1 summed is 4\n",
      "Result is 4\n",
      "\n",
      "\n",
      "Simplified digits of (2039, 172, 1218, 3091) is 5134\n",
      "Given number: 5134\n",
      "Removed pairs (4, 5) because those pairs summed to nine\n",
      "Digits after pairs that summed to nine, and digits that are nine are dropped: [1, 3]\n",
      "1 + 3 summed is 4\n",
      "Result is 4\n",
      "\n"
     ]
    }
   ],
   "source": [
    "addends_result = casting_out_nines_addends(casting_out_nines_remove_nines, 2039, 172, 1218, 3091)"
   ]
  },
  {
   "cell_type": "code",
   "execution_count": 7,
   "metadata": {},
   "outputs": [
    {
     "name": "stdout",
     "output_type": "stream",
     "text": [
      "Given number: 6520\n",
      "Digits after pairs that summed to nine, and digits that are nine are dropped: [6, 5, 2, 0]\n",
      "6 + 5 + 2 + 0 summed is 13\n",
      "Digits after pairs that summed to nine, and digits that are nine are dropped: [1, 3]\n",
      "1 + 3 summed is 4\n",
      "Result is 4\n",
      "\n"
     ]
    }
   ],
   "source": [
    "sum_result = casting_out_nines_remove_nines(6520)"
   ]
  },
  {
   "cell_type": "code",
   "execution_count": 8,
   "metadata": {},
   "outputs": [
    {
     "name": "stdout",
     "output_type": "stream",
     "text": [
      "4 and 4 are the same\n",
      "True\n"
     ]
    }
   ],
   "source": [
    "print(check_if_equal(addends_result, sum_result))"
   ]
  },
  {
   "cell_type": "markdown",
   "metadata": {},
   "source": [
    "### Multiplication Version\n",
    "\n",
    "Check if 503 * 15 equals 7,545"
   ]
  },
  {
   "cell_type": "code",
   "execution_count": 9,
   "metadata": {},
   "outputs": [
    {
     "name": "stdout",
     "output_type": "stream",
     "text": [
      "Given number: 503\n",
      "Digits after pairs that summed to nine, and digits that are nine are dropped: [5, 0, 3]\n",
      "5 + 0 + 3 summed is 8\n",
      "Result is 8\n",
      "\n",
      "Given number: 15\n",
      "Digits after pairs that summed to nine, and digits that are nine are dropped: [1, 5]\n",
      "1 + 5 summed is 6\n",
      "Result is 6\n",
      "\n",
      "\n",
      "Simplified digits of (503, 15) is 86\n",
      "Given number: 48\n",
      "Digits after pairs that summed to nine, and digits that are nine are dropped: [4, 8]\n",
      "4 + 8 summed is 12\n",
      "Digits after pairs that summed to nine, and digits that are nine are dropped: [1, 2]\n",
      "1 + 2 summed is 3\n",
      "Result is 3\n",
      "\n",
      "Given number: 7545\n",
      "Removed pairs (4, 5) because those pairs summed to nine\n",
      "Digits after pairs that summed to nine, and digits that are nine are dropped: [7, 5]\n",
      "7 + 5 summed is 12\n",
      "Digits after pairs that summed to nine, and digits that are nine are dropped: [1, 2]\n",
      "1 + 2 summed is 3\n",
      "Result is 3\n",
      "\n"
     ]
    }
   ],
   "source": [
    "addends_result = casting_out_nines_addends(casting_out_nines_remove_nines, 503, 15, final_reduction=False)\n",
    "#print(addends_result)\n",
    "multiplication_addends_result = multiply_members_of_list(addends_result)\n",
    "multiplication_addends_result_reduced = casting_out_nines_remove_nines(multiplication_addends_result)\n",
    "\n",
    "mulitiplication_sum_result = casting_out_nines_remove_nines(7545)"
   ]
  },
  {
   "cell_type": "code",
   "execution_count": 10,
   "metadata": {},
   "outputs": [
    {
     "name": "stdout",
     "output_type": "stream",
     "text": [
      "3 and 3 are the same\n",
      "True\n"
     ]
    }
   ],
   "source": [
    "print(check_if_equal(multiplication_addends_result_reduced, mulitiplication_sum_result))"
   ]
  }
 ],
 "metadata": {
  "kernelspec": {
   "display_name": "Python 3",
   "language": "python",
   "name": "python3"
  },
  "language_info": {
   "codemirror_mode": {
    "name": "ipython",
    "version": 3
   },
   "file_extension": ".py",
   "mimetype": "text/x-python",
   "name": "python",
   "nbconvert_exporter": "python",
   "pygments_lexer": "ipython3",
   "version": "3.8.2"
  }
 },
 "nbformat": 4,
 "nbformat_minor": 4
}
