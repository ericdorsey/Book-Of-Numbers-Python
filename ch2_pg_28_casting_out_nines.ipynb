{
 "cells": [
  {
   "cell_type": "markdown",
   "metadata": {},
   "source": [
    "## Chapter 2\n",
    "\n",
    "### Casting Out Nines\n",
    "\n",
    "From p. 28:\n",
    "\n",
    "> \"casting out the nines,\" a useful arthimetic check\n",
    "\n",
    "Explained in detail in YouTube video [Casting Out Nines - Numberphile](https://www.youtube.com/watch?v=FlndIiQa20o)\n",
    "\n",
    "#### Check Addition\n",
    "Process appears to be (using example problem of 2,039 + 172 + 1,218 + 3,091 = 6,520 from the Numberphile video)\n",
    "\n",
    "* sum / reduce (to a number <= 9) all addends (ie, 2,039, 172, 1,218 and 3,091)\n",
    "* add all those reduced results\n",
    "* sum / reduce the result of that addition \n",
    "* that result is the 1st value\n",
    "\n",
    "then\n",
    "\n",
    "* sum / reduce the original answer to the addition problem (ie, 6,520)\n",
    "* that result is the 2nd value\n",
    "\n",
    "then \n",
    "\n",
    "* compare if the 1st value and the 2nd value are the same; if yes, the addition answer is likely correct\n",
    "\n",
    "#### Check Multiplication \n",
    "Process appears to be (using example problem of 503 * 15 = 7,545 from the Numberphile video):\n",
    "\n",
    "* sum / reduce (to a number <= 9) all addends (ie, 503 and 15)\n",
    "* multiply all those reduced results\n",
    "* sum / reduce the result of that multiplication\n",
    "* that result is the 1st value\n",
    "\n",
    "then \n",
    "\n",
    "* sum / reduce the original answer to the multiplication problem (ie, 7,545)\n",
    "* that result is the 2nd value\n",
    "\n",
    "then \n",
    "\n",
    "* compare if the 1st value and 2nd value are the same; if yes, the multiplication answer is likely correct"
   ]
  },
  {
   "cell_type": "code",
   "execution_count": 385,
   "metadata": {},
   "outputs": [],
   "source": [
    "def casting_out_nines(number):\n",
    "    \"\"\"\n",
    "    This is the \"raw\" addends method (ie, we don't try to remove any nines (cont.)\n",
    "    or combinations that make nines first). We simply sum every digit of the number (cont.)\n",
    "    until it reduces to a number that is less than or equal to nine. \n",
    "    \"\"\"\n",
    "    print(f\"Given number: {number}\")\n",
    "    \n",
    "    def reducer(reduceme):\n",
    "        number_as_list = [int(i) for i in str(reduceme)]\n",
    "        all_but_last_number_str = \" + \".join([str(i) for i in number_as_list[:-1]])\n",
    "        last_number_str = number_as_list[-1]\n",
    "        new_number = sum(number_as_list)\n",
    "        print(f\"{all_but_last_number_str} + {last_number_str} summed is {new_number}\")\n",
    "        return new_number\n",
    "    \n",
    "    if number < 10:\n",
    "        return number\n",
    "    else:\n",
    "        while number > 9:\n",
    "            number = reducer(number)\n",
    "    print(f\"Result is {number}\\n\")\n",
    "    return number"
   ]
  },
  {
   "cell_type": "code",
   "execution_count": 386,
   "metadata": {},
   "outputs": [],
   "source": [
    "def casting_out_nines_remove_nines(number):\n",
    "    \"\"\"\n",
    "    This is the more detailed approach, where we first remove pairs of digits (cont.)\n",
    "    that sum to nine, and remove nines from digits before summing the addends (cont.)\n",
    "    until it reduces to a number that is less than or equal to nine.\n",
    "    \"\"\"\n",
    "    print(f\"Given number: {number}\")\n",
    "    \n",
    "    def pairs_sum_to_nine(list_to_check_for_nine_sums):\n",
    "        \"\"\"\n",
    "        Checks a list for pairs that sum to nine\n",
    "        Returns unique set() of pairs that summed to nine\n",
    "        \"\"\"\n",
    "        sum_to_nine_digits = []\n",
    "        for x in list_to_check_for_nine_sums:\n",
    "            for y in list_to_check_for_nine_sums:\n",
    "                # go through each pair of numbers and see if they sum to nine; \n",
    "                # if yes, append to the sum_to_nine_digits list\n",
    "                if x + y == 9:\n",
    "                    #print(f\"{x} + {y} sums to nine\")\n",
    "                    sum_to_nine_digits.append(x)\n",
    "                    sum_to_nine_digits.append(y)\n",
    "        # get the unique's only, using set(), from all the pairs collected in sum_to_nine_digits\n",
    "        sum_to_nine_digits = list(set(sum_to_nine_digits))\n",
    "        return sum_to_nine_digits\n",
    "    \n",
    "    def reducer(reduceme):\n",
    "        number_as_list = [int(i) for i in str(reduceme)]\n",
    "        #print(number_as_list)\n",
    "        # First, remove nines\n",
    "        nines_removed_list = [i for i in number_as_list if i != 9]\n",
    "        if nines_removed_list != number_as_list:\n",
    "            print(f\"Digits after pairs that summed to nine, and digits that are nine are dropped: {nines_removed_list}\")\n",
    "        all_but_last_number_str = \" + \".join([str(i) for i in nines_removed_list[:-1]])# if i != nines_removed_list[-1]])\n",
    "        last_number_str = nines_removed_list[-1]\n",
    "        new_number = sum(nines_removed_list)\n",
    "        print(f\"{all_but_last_number_str} + {last_number_str} summed is {new_number}\")\n",
    "        return new_number\n",
    "\n",
    "    # Well that was easy, we can just return what the fucntion was passed; it's already fully reduced\n",
    "    if number < 10:\n",
    "        print(f\"Result is {number}\\n\")\n",
    "        return number\n",
    "    else:\n",
    "        # 82 is greater than any of the combinations of two numbers that is nine that need to be skipped\n",
    "        # they need to be skipped because if they're the only pair we remove everything / nothing is left! \n",
    "        # they include (81, 18), (72, 27), (63, 36), (54, 45)\n",
    "        # found this bug when casting_out_nines_remove_nines() was passed 6700417\n",
    "        if number > 82:\n",
    "            # convert the number to a list for \"remove sums of nines\" operations\n",
    "            number_as_list = [int(i) for i in str(number)]\n",
    "            sum_to_nine_digits = pairs_sum_to_nine(number_as_list)\n",
    "            # remove the digits that summed to nine from the original number\n",
    "            removed = []\n",
    "            pairs_removed = False\n",
    "            for i in sum_to_nine_digits:\n",
    "                if i in number_as_list:\n",
    "                    pairs_removed = True\n",
    "                    #print(f\"removing {i}\")\n",
    "                    number_as_list.remove(i)\n",
    "                    removed.append(i)\n",
    "            if pairs_removed == True:\n",
    "                # https://stackoverflow.com/questions/4647050/collect-every-pair-of-elements-from-a-list-into-tuples-in-python\n",
    "                removed_pairs_list = list(zip(removed[::2], removed[1::2]))\n",
    "                removed_pairs_display_text = \" \".join([str(i) for i in removed_pairs_list])\n",
    "                print(f\"Removed {removed_pairs_display_text} because those pairs summed to nine\")\n",
    "            elif pairs_removed == False:\n",
    "                pass\n",
    "            nines_sums_removed_num = number_as_list\n",
    "            nines_sums_removed_num = int(\"\".join([str(i) for i in nines_sums_removed_num]))\n",
    "            ready_to_be_reduced_num = nines_sums_removed_num\n",
    "        else:\n",
    "            ready_to_be_reduced_num = number\n",
    "        \n",
    "        while ready_to_be_reduced_num > 9:\n",
    "            ready_to_be_reduced_num = reducer(ready_to_be_reduced_num)\n",
    "        print(f\"Result is {ready_to_be_reduced_num}\\n\")\n",
    "        return ready_to_be_reduced_num"
   ]
  },
  {
   "cell_type": "code",
   "execution_count": 387,
   "metadata": {},
   "outputs": [],
   "source": [
    "def casting_out_nines_addends(casting_out_nines_method, *addends, final_reduction=True):\n",
    "    \"\"\"\n",
    "    Takes one or more addends and runs passed casting_out_nines_method against them\n",
    "    In addition we leave final reducation to the default of True\n",
    "    In multiplication we pass final_reduction=False (to leave them as a list to be multiplied later)\n",
    "    \"\"\"\n",
    "    results = []\n",
    "    for i in addends:\n",
    "        curr_addends_result = casting_out_nines_method(i)\n",
    "        results.append(curr_addends_result)\n",
    "    results_as_a_number = int(\"\".join([str(i) for i in results]))\n",
    "    print(f\"Simplified digits of {addends} is {results_as_a_number}\\n\")\n",
    "    # if final_reduction == True, simplify that result\n",
    "    if final_reduction == True:\n",
    "        final_result = casting_out_nines_method(results_as_a_number)\n",
    "        return final_result\n",
    "    # otherwise, return the list of addends results\n",
    "    else:\n",
    "        return results"
   ]
  },
  {
   "cell_type": "code",
   "execution_count": 388,
   "metadata": {},
   "outputs": [],
   "source": [
    "def multiply_members_of_list(my_list):\n",
    "    result = 1\n",
    "    for i in my_list:\n",
    "        result = result * i\n",
    "    return result"
   ]
  },
  {
   "cell_type": "code",
   "execution_count": 389,
   "metadata": {},
   "outputs": [],
   "source": [
    "def check_if_equal(thing_one, thing_two):\n",
    "    if thing_one == thing_two:\n",
    "        print(f\"{thing_one} and {thing_two} are the same\")\n",
    "        return True\n",
    "    else:\n",
    "        print(f\"{thing_one} and {thing_two} are different\")\n",
    "        return False"
   ]
  },
  {
   "cell_type": "markdown",
   "metadata": {},
   "source": [
    "### Addition Version\n",
    "\n",
    "Check if 2039 + 172 + 1218 + 3091 equals 6520"
   ]
  },
  {
   "cell_type": "code",
   "execution_count": 390,
   "metadata": {},
   "outputs": [
    {
     "name": "stdout",
     "output_type": "stream",
     "text": [
      "Given number: 2039\n",
      "Removed (0, 9) because those pairs summed to nine\n",
      "2 + 3 summed is 5\n",
      "Result is 5\n",
      "\n",
      "Given number: 172\n",
      "Removed (2, 7) because those pairs summed to nine\n",
      "Result is 1\n",
      "\n",
      "Given number: 1218\n",
      "Removed (8, 1) because those pairs summed to nine\n",
      "2 + 1 summed is 3\n",
      "Result is 3\n",
      "\n",
      "Given number: 3091\n",
      "Removed (0, 9) because those pairs summed to nine\n",
      "3 + 1 summed is 4\n",
      "Result is 4\n",
      "\n",
      "Simplified digits of (2039, 172, 1218, 3091) is 5134\n",
      "\n",
      "Given number: 5134\n",
      "Removed (4, 5) because those pairs summed to nine\n",
      "1 + 3 summed is 4\n",
      "Result is 4\n",
      "\n"
     ]
    }
   ],
   "source": [
    "addends_result = casting_out_nines_addends(casting_out_nines_remove_nines, 2039, 172, 1218, 3091)"
   ]
  },
  {
   "cell_type": "code",
   "execution_count": 391,
   "metadata": {},
   "outputs": [
    {
     "name": "stdout",
     "output_type": "stream",
     "text": [
      "Given number: 6520\n",
      "6 + 5 + 2 + 0 summed is 13\n",
      "1 + 3 summed is 4\n",
      "Result is 4\n",
      "\n"
     ]
    }
   ],
   "source": [
    "sum_result = casting_out_nines_remove_nines(6520)"
   ]
  },
  {
   "cell_type": "code",
   "execution_count": 392,
   "metadata": {},
   "outputs": [
    {
     "name": "stdout",
     "output_type": "stream",
     "text": [
      "4 and 4 are the same\n",
      "True\n"
     ]
    }
   ],
   "source": [
    "print(check_if_equal(addends_result, sum_result))"
   ]
  },
  {
   "cell_type": "markdown",
   "metadata": {},
   "source": [
    "### Multiplication Version\n",
    "\n",
    "Check if 503 * 15 equals 7,545 (from Numberphile video)"
   ]
  },
  {
   "cell_type": "code",
   "execution_count": 393,
   "metadata": {},
   "outputs": [
    {
     "name": "stdout",
     "output_type": "stream",
     "text": [
      "Given number: 503\n",
      "5 + 0 + 3 summed is 8\n",
      "Result is 8\n",
      "\n",
      "Given number: 15\n",
      "1 + 5 summed is 6\n",
      "Result is 6\n",
      "\n",
      "Simplified digits of (503, 15) is 86\n",
      "\n",
      "Given number: 48\n",
      "4 + 8 summed is 12\n",
      "1 + 2 summed is 3\n",
      "Result is 3\n",
      "\n"
     ]
    }
   ],
   "source": [
    "addends_result = casting_out_nines_addends(casting_out_nines_remove_nines, 503, 15, final_reduction=False)\n",
    "multiplication_addends_result = multiply_members_of_list(addends_result)\n",
    "multiplication_addends_result_reduced = casting_out_nines_remove_nines(multiplication_addends_result)"
   ]
  },
  {
   "cell_type": "code",
   "execution_count": 394,
   "metadata": {},
   "outputs": [
    {
     "name": "stdout",
     "output_type": "stream",
     "text": [
      "Given number: 7545\n",
      "Removed (4, 5) because those pairs summed to nine\n",
      "7 + 5 summed is 12\n",
      "1 + 2 summed is 3\n",
      "Result is 3\n",
      "\n"
     ]
    }
   ],
   "source": [
    "mulitiplication_sum_result = casting_out_nines_remove_nines(7545)"
   ]
  },
  {
   "cell_type": "code",
   "execution_count": 395,
   "metadata": {},
   "outputs": [
    {
     "name": "stdout",
     "output_type": "stream",
     "text": [
      "3 and 3 are the same\n",
      "True\n"
     ]
    }
   ],
   "source": [
    "print(check_if_equal(multiplication_addends_result_reduced, mulitiplication_sum_result))"
   ]
  },
  {
   "cell_type": "markdown",
   "metadata": {},
   "source": [
    "Check if 239 * 4,649 equals 1,111,111 (from pg. 28)"
   ]
  },
  {
   "cell_type": "code",
   "execution_count": 396,
   "metadata": {},
   "outputs": [
    {
     "name": "stdout",
     "output_type": "stream",
     "text": [
      "Given number: 239\n",
      "Digits after pairs that summed to nine, and digits that are nine are dropped: [2, 3]\n",
      "2 + 3 summed is 5\n",
      "Result is 5\n",
      "\n",
      "Given number: 4649\n",
      "Digits after pairs that summed to nine, and digits that are nine are dropped: [4, 6, 4]\n",
      "4 + 6 + 4 summed is 14\n",
      "1 + 4 summed is 5\n",
      "Result is 5\n",
      "\n",
      "Simplified digits of (239, 4649) is 55\n",
      "\n",
      "Given number: 25\n",
      "2 + 5 summed is 7\n",
      "Result is 7\n",
      "\n"
     ]
    }
   ],
   "source": [
    "addends_result = casting_out_nines_addends(casting_out_nines_remove_nines, 239, 4649, final_reduction=False)\n",
    "multiplication_addends_result = multiply_members_of_list(addends_result)\n",
    "multiplication_addends_result_reduced = casting_out_nines_remove_nines(multiplication_addends_result)"
   ]
  },
  {
   "cell_type": "code",
   "execution_count": 397,
   "metadata": {},
   "outputs": [
    {
     "name": "stdout",
     "output_type": "stream",
     "text": [
      "Given number: 1111111\n",
      "1 + 1 + 1 + 1 + 1 + 1 + 1 summed is 7\n",
      "Result is 7\n",
      "\n"
     ]
    }
   ],
   "source": [
    "mulitiplication_sum_result = casting_out_nines_remove_nines(1111111)"
   ]
  },
  {
   "cell_type": "code",
   "execution_count": 398,
   "metadata": {},
   "outputs": [
    {
     "name": "stdout",
     "output_type": "stream",
     "text": [
      "7 and 7 are the same\n",
      "True\n"
     ]
    }
   ],
   "source": [
    "print(check_if_equal(multiplication_addends_result_reduced, mulitiplication_sum_result))"
   ]
  },
  {
   "cell_type": "markdown",
   "metadata": {},
   "source": [
    "From p. 29\n",
    "\n",
    "2^32 + 1 = 4294967297 = 641 * 6700417"
   ]
  },
  {
   "cell_type": "code",
   "execution_count": 399,
   "metadata": {},
   "outputs": [
    {
     "name": "stdout",
     "output_type": "stream",
     "text": [
      "Given number: 641\n",
      "6 + 4 + 1 summed is 11\n",
      "1 + 1 summed is 2\n",
      "Result is 2\n",
      "\n",
      "Given number: 6700417\n",
      "6 + 7 + 0 + 0 + 4 + 1 + 7 summed is 25\n",
      "2 + 5 summed is 7\n",
      "Result is 7\n",
      "\n",
      "Simplified digits of (641, 6700417) is 27\n",
      "\n",
      "Given number: 27\n",
      "2 + 7 summed is 9\n",
      "Result is 9\n",
      "\n"
     ]
    },
    {
     "data": {
      "text/plain": [
       "9"
      ]
     },
     "execution_count": 399,
     "metadata": {},
     "output_type": "execute_result"
    }
   ],
   "source": [
    "casting_out_nines_addends(casting_out_nines_remove_nines, 641, 6700417, final_reduction=True)"
   ]
  },
  {
   "cell_type": "code",
   "execution_count": 400,
   "metadata": {},
   "outputs": [
    {
     "name": "stdout",
     "output_type": "stream",
     "text": [
      "Given number: 4294967296\n",
      "Removed (2, 7) because those pairs summed to nine\n",
      "Digits after pairs that summed to nine, and digits that are nine are dropped: [4, 4, 6, 2, 6]\n",
      "4 + 4 + 6 + 2 + 6 summed is 22\n",
      "2 + 2 summed is 4\n",
      "Result is 4\n",
      "\n",
      "Given number: 1\n",
      "Result is 1\n",
      "\n",
      "Simplified digits of (4294967296, 1) is 41\n",
      "\n",
      "Given number: 41\n",
      "4 + 1 summed is 5\n",
      "Result is 5\n",
      "\n"
     ]
    },
    {
     "data": {
      "text/plain": [
       "5"
      ]
     },
     "execution_count": 400,
     "metadata": {},
     "output_type": "execute_result"
    }
   ],
   "source": [
    "casting_out_nines_addends(casting_out_nines_remove_nines, 4294967296, 1, final_reduction=True)"
   ]
  }
 ],
 "metadata": {
  "kernelspec": {
   "display_name": "Python 3",
   "language": "python",
   "name": "python3"
  },
  "language_info": {
   "codemirror_mode": {
    "name": "ipython",
    "version": 3
   },
   "file_extension": ".py",
   "mimetype": "text/x-python",
   "name": "python",
   "nbconvert_exporter": "python",
   "pygments_lexer": "ipython3",
   "version": "3.8.2"
  }
 },
 "nbformat": 4,
 "nbformat_minor": 4
}
