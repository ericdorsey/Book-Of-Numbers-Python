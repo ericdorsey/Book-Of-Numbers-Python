{
 "cells": [
  {
   "cell_type": "markdown",
   "metadata": {},
   "source": [
    "## Chapter 2\n",
    "\n",
    "### Patterns Provide Pretty Proofs\n",
    "\n",
    "From p. 27, Figure 2.1"
   ]
  },
  {
   "cell_type": "code",
   "execution_count": 9,
   "metadata": {},
   "outputs": [],
   "source": [
    "def row_col_printer(height, width):\n",
    "    \"\"\"\n",
    "    An arbitrary \"row and column\" number printer\n",
    "    Doesn't do the neat colors :(\n",
    "    \"\"\"\n",
    "    total_count = 0\n",
    "    for i in range(height):\n",
    "        for j in range(width):\n",
    "            print(f\"{total_count:02} \", end=\"\")\n",
    "            total_count += 1\n",
    "        print()"
   ]
  },
  {
   "cell_type": "code",
   "execution_count": 10,
   "metadata": {},
   "outputs": [
    {
     "name": "stdout",
     "output_type": "stream",
     "text": [
      "00 01 \n",
      "02 03 \n",
      "04 05 \n",
      "06 07 \n",
      "08 09 \n",
      "10 11 \n",
      "12 13 \n",
      "14 15 \n",
      "16 17 \n",
      "18 19 \n"
     ]
    }
   ],
   "source": [
    "row_col_printer(10, 2)"
   ]
  },
  {
   "cell_type": "code",
   "execution_count": 11,
   "metadata": {},
   "outputs": [
    {
     "name": "stdout",
     "output_type": "stream",
     "text": [
      "00 01 02 \n",
      "03 04 05 \n",
      "06 07 08 \n",
      "09 10 11 \n",
      "12 13 14 \n",
      "15 16 17 \n",
      "18 19 20 \n",
      "21 22 23 \n",
      "24 25 26 \n",
      "27 28 29 \n"
     ]
    }
   ],
   "source": [
    "row_col_printer(10, 3)"
   ]
  },
  {
   "cell_type": "code",
   "execution_count": 12,
   "metadata": {},
   "outputs": [
    {
     "name": "stdout",
     "output_type": "stream",
     "text": [
      "00 01 02 03 04 05 \n",
      "06 07 08 09 10 11 \n",
      "12 13 14 15 16 17 \n",
      "18 19 20 21 22 23 \n",
      "24 25 26 27 28 29 \n",
      "30 31 32 33 34 35 \n",
      "36 37 38 39 40 41 \n",
      "42 43 44 45 46 47 \n",
      "48 49 50 51 52 53 \n",
      "54 55 56 57 58 59 \n"
     ]
    }
   ],
   "source": [
    "row_col_printer(10, 6)"
   ]
  }
 ],
 "metadata": {
  "kernelspec": {
   "display_name": "Python 3",
   "language": "python",
   "name": "python3"
  },
  "language_info": {
   "codemirror_mode": {
    "name": "ipython",
    "version": 3
   },
   "file_extension": ".py",
   "mimetype": "text/x-python",
   "name": "python",
   "nbconvert_exporter": "python",
   "pygments_lexer": "ipython3",
   "version": "3.8.2"
  }
 },
 "nbformat": 4,
 "nbformat_minor": 4
}
