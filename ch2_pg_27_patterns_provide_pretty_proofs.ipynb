{
 "cells": [
  {
   "cell_type": "markdown",
   "metadata": {},
   "source": [
    "## Chapter 2\n",
    "\n",
    "### Patterns Provide Pretty Proofs\n",
    "\n",
    "From p. 27, Figure 2.1"
   ]
  },
  {
   "cell_type": "code",
   "execution_count": 653,
   "metadata": {},
   "outputs": [],
   "source": [
    "def row_col_printer(height, width):\n",
    "    \"\"\"\n",
    "    An arbitrary \"row and column\" number printer\n",
    "    Doesn't do the neat colors :(\n",
    "    \"\"\"\n",
    "    total_count = 0\n",
    "    for i in range(height):\n",
    "        for j in range(width):\n",
    "            print(f\"{total_count:02} \", end=\"\")\n",
    "            total_count += 1\n",
    "        print()"
   ]
  },
  {
   "cell_type": "code",
   "execution_count": 654,
   "metadata": {},
   "outputs": [
    {
     "name": "stdout",
     "output_type": "stream",
     "text": [
      "00 \n",
      "01 \n",
      "02 \n",
      "03 \n",
      "04 \n",
      "05 \n",
      "06 \n",
      "07 \n",
      "08 \n",
      "09 \n"
     ]
    }
   ],
   "source": [
    "row_col_printer(10, 1)"
   ]
  },
  {
   "cell_type": "code",
   "execution_count": 655,
   "metadata": {},
   "outputs": [
    {
     "name": "stdout",
     "output_type": "stream",
     "text": [
      "00 01 02 03 \n",
      "04 05 06 07 \n",
      "08 09 10 11 \n",
      "12 13 14 15 \n",
      "16 17 18 19 \n",
      "20 21 22 23 \n",
      "24 25 26 27 \n",
      "28 29 30 31 \n",
      "32 33 34 35 \n",
      "36 37 38 39 \n"
     ]
    }
   ],
   "source": [
    "row_col_printer(10, 4)"
   ]
  }
 ],
 "metadata": {
  "kernelspec": {
   "display_name": "Python 3",
   "language": "python",
   "name": "python3"
  },
  "language_info": {
   "codemirror_mode": {
    "name": "ipython",
    "version": 3
   },
   "file_extension": ".py",
   "mimetype": "text/x-python",
   "name": "python",
   "nbconvert_exporter": "python",
   "pygments_lexer": "ipython3",
   "version": "3.8.2"
  }
 },
 "nbformat": 4,
 "nbformat_minor": 4
}
